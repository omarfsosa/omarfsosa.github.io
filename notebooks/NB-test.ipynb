{
 "cells": [
  {
   "cell_type": "code",
   "execution_count": 1,
   "metadata": {},
   "outputs": [],
   "source": [
    "import pystan\n",
    "import numpy as np"
   ]
  },
  {
   "cell_type": "code",
   "execution_count": 15,
   "metadata": {},
   "outputs": [],
   "source": [
    "model_code = \"\"\"\n",
    "functions {\n",
    "\n",
    "    real softplus(real x, real t) {\n",
    "        if (x > 40) {\n",
    "            return x;\n",
    "        }\n",
    "        return (1.0 / t) * log1p(exp(t * x));\n",
    "    }\n",
    "}\n",
    "data {\n",
    "    real mu;\n",
    "    real<lower=0> phi;\n",
    "    real t;\n",
    "}\n",
    "parameters {}\n",
    "model {}\n",
    "generated quantities {\n",
    "    int<lower=0> y;\n",
    "    y = neg_binomial_2_rng(softplus(mu, t), phi);\n",
    "}\n",
    "\"\"\""
   ]
  },
  {
   "cell_type": "code",
   "execution_count": 16,
   "metadata": {},
   "outputs": [
    {
     "name": "stderr",
     "output_type": "stream",
     "text": [
      "INFO:pystan:COMPILING THE C++ CODE FOR MODEL anon_model_c02b91b981af1d4b45fba7f7b7a91b81 NOW.\n"
     ]
    }
   ],
   "source": [
    "sm = pystan.StanModel(model_code=model_code)"
   ]
  },
  {
   "cell_type": "code",
   "execution_count": 31,
   "metadata": {},
   "outputs": [
    {
     "name": "stderr",
     "output_type": "stream",
     "text": [
      "WARNING:pystan:`warmup=0` forced with `algorithm=\"Fixed_param\"`.\n"
     ]
    }
   ],
   "source": [
    "samples = sm.sampling(data={'mu': 1, 'phi': 1, 't': 10}, algorithm=\"Fixed_param\", refresh=10)"
   ]
  },
  {
   "cell_type": "code",
   "execution_count": 32,
   "metadata": {},
   "outputs": [
    {
     "data": {
      "text/plain": [
       "Inference for Stan model: anon_model_c02b91b981af1d4b45fba7f7b7a91b81.\n",
       "4 chains, each with iter=2000; warmup=0; thin=1; \n",
       "post-warmup draws per chain=2000, total post-warmup draws=8000.\n",
       "\n",
       "       mean se_mean     sd   2.5%    25%    50%    75%  97.5%  n_eff   Rhat\n",
       "y       1.0    0.02   1.41    0.0    0.0    1.0   1.55    5.0   8030    1.0\n",
       "lp__    0.0     nan    0.0    0.0    0.0    0.0    0.0    0.0    nan    nan\n",
       "\n",
       "Samples were drawn using Fixed_param at Fri Jul 10 06:35:25 2020.\n",
       "For each parameter, n_eff is a crude measure of effective sample size,\n",
       "and Rhat is the potential scale reduction factor on split chains (at \n",
       "convergence, Rhat=1)."
      ]
     },
     "execution_count": 32,
     "metadata": {},
     "output_type": "execute_result"
    }
   ],
   "source": [
    "samples"
   ]
  },
  {
   "cell_type": "code",
   "execution_count": 26,
   "metadata": {},
   "outputs": [
    {
     "data": {
      "text/plain": [
       "0.0"
      ]
     },
     "execution_count": 26,
     "metadata": {},
     "output_type": "execute_result"
    }
   ],
   "source": [
    "np.isnan(samples.extract()['y']).mean()"
   ]
  },
  {
   "cell_type": "code",
   "execution_count": null,
   "metadata": {},
   "outputs": [],
   "source": []
  }
 ],
 "metadata": {
  "kernelspec": {
   "display_name": "stan",
   "language": "python",
   "name": "stan"
  },
  "language_info": {
   "codemirror_mode": {
    "name": "ipython",
    "version": 3
   },
   "file_extension": ".py",
   "mimetype": "text/x-python",
   "name": "python",
   "nbconvert_exporter": "python",
   "pygments_lexer": "ipython3",
   "version": "3.7.4"
  }
 },
 "nbformat": 4,
 "nbformat_minor": 4
}
